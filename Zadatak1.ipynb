{
 "cells": [
  {
   "cell_type": "code",
   "execution_count": null,
   "id": "05959a51",
   "metadata": {},
   "outputs": [],
   "source": [
    "import pandas as pd"
   ]
  },
  {
   "cell_type": "code",
   "execution_count": null,
   "id": "b0d6caf8",
   "metadata": {},
   "outputs": [],
   "source": [
    "podaci = [[\"Ana\", \"ž\", 13, 46, 160],\n",
    "[\"Bojan\", \"m\", 14, 52, 165],\n",
    "[\"Vlada\", \"m\", 13, 47, 157],\n",
    "[\"Gordana\", \"ž\", 15, 54, 165],\n",
    "[\"Dejan\", \"m\", 15, 56, 163],\n",
    "[\"Đorđe\", \"m\", 13, 45, 159]]"
   ]
  },
  {
   "cell_type": "code",
   "execution_count": null,
   "id": "2f5be047",
   "metadata": {},
   "outputs": [],
   "source": [
    "tabela = pd.DataFrame(podaci)"
   ]
  },
  {
   "cell_type": "code",
   "execution_count": null,
   "id": "4fa29643",
   "metadata": {},
   "outputs": [],
   "source": [
    "tabela"
   ]
  },
  {
   "cell_type": "code",
   "execution_count": null,
   "id": "0906ccf2",
   "metadata": {},
   "outputs": [],
   "source": [
    "tabela.columns=[\"Ime\", \"Pol\", \"Starost\", \"Masa\", \"Visina\"]"
   ]
  },
  {
   "cell_type": "code",
   "execution_count": null,
   "id": "6a3f6fd8",
   "metadata": {},
   "outputs": [],
   "source": [
    "tabela"
   ]
  },
  {
   "cell_type": "code",
   "execution_count": null,
   "id": "c22ba230",
   "metadata": {},
   "outputs": [],
   "source": [
    "print(tabela[\"Masa\"].min(), tabela[\"Masa\"].mean(),tabela[\"Masa\"].median())"
   ]
  },
  {
   "cell_type": "code",
   "execution_count": null,
   "id": "64c73374",
   "metadata": {},
   "outputs": [],
   "source": [
    "import matplotlib.pyplot as plt"
   ]
  },
  {
   "cell_type": "code",
   "execution_count": null,
   "id": "c3aa25e4",
   "metadata": {
    "scrolled": true
   },
   "outputs": [],
   "source": [
    "plt.figure(figsize=(7,3))\n",
    "plt.bar(tabela[\"Ime\"], tabela[\"Visina\"], color='#808080')\n",
    "plt.show()\n",
    "plt.close()"
   ]
  },
  {
   "cell_type": "code",
   "execution_count": null,
   "id": "65b1dbc5",
   "metadata": {},
   "outputs": [],
   "source": [
    "tabela1=tabela.set_index(\"Ime\")"
   ]
  },
  {
   "cell_type": "code",
   "execution_count": null,
   "id": "cd248bfd",
   "metadata": {},
   "outputs": [],
   "source": [
    "tabela1"
   ]
  }
 ],
 "metadata": {
  "kernelspec": {
   "display_name": "Python 3",
   "language": "python",
   "name": "python3"
  },
  "language_info": {
   "codemirror_mode": {
    "name": "ipython",
    "version": 3
   },
   "file_extension": ".py",
   "mimetype": "text/x-python",
   "name": "python",
   "nbconvert_exporter": "python",
   "pygments_lexer": "ipython3",
   "version": "3.9.5"
  }
 },
 "nbformat": 4,
 "nbformat_minor": 5
}
