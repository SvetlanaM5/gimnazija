{
 "cells": [
  {
   "cell_type": "markdown",
   "metadata": {},
   "source": [
    "# Задатак\n",
    "Дати су резултати такмичења из програмирања.\n",
    "\n",
    "шифра такмичара 104А 315С 261В 995Р 423Е 117Х 724Т 611М 508К 367Н\n",
    "\n",
    "број бодова 52 46 17 75 58 40 65 30 50 25\n",
    "\n",
    "За освајање награде и прелазак на следећи ниво такмичења\n",
    "потребно је да такмичар освоји 60 или више бодова.\n",
    "Креирај радну свеску Такмичење и пронађи одговоре на следећа питања:\n",
    "- колики је просечан број бодова?\n",
    "- колика је медијана низа освојених бодова на овом такмичењу?\n",
    "- колико има такмичара који су освојили довољан број бодова за прелазак на следећи ниво?\n",
    "- како изгледао низ бодова сортиран опадајуће?\n",
    "- колико такмичара се пласирало на следећи ниво такмичења\n",
    "након што су организатори свима доделили 7 наградних бодова?\n",
    "\n",
    "На крају радне свеске испиши колико бодова имају првопласирани,\n",
    "другопласирани и трећепласирани такмичар.\n"
   ]
  },
  {
   "cell_type": "code",
   "execution_count": null,
   "metadata": {},
   "outputs": [],
   "source": [
    "bodovi=[52,46,17,75,58,40,65,30,50,25]"
   ]
  },
  {
   "cell_type": "code",
   "execution_count": null,
   "metadata": {},
   "outputs": [],
   "source": [
    "def prosek(x):\n",
    "    return sum(x)/len(x)"
   ]
  },
  {
   "cell_type": "code",
   "execution_count": null,
   "metadata": {},
   "outputs": [],
   "source": [
    "prosek(bodovi)"
   ]
  },
  {
   "cell_type": "code",
   "execution_count": null,
   "metadata": {},
   "outputs": [],
   "source": [
    "from statistics import median"
   ]
  },
  {
   "cell_type": "code",
   "execution_count": null,
   "metadata": {},
   "outputs": [],
   "source": [
    "median(bodovi)"
   ]
  },
  {
   "cell_type": "code",
   "execution_count": null,
   "metadata": {},
   "outputs": [],
   "source": [
    "def medijana(x):\n",
    "    x.sort()\n",
    "    n=len(x)\n",
    "    if n%2==1:\n",
    "        return x[n//2]\n",
    "    else:\n",
    "        return (x[n//2-1]+x[n//2])/2"
   ]
  },
  {
   "cell_type": "code",
   "execution_count": null,
   "metadata": {},
   "outputs": [],
   "source": [
    "medijana(bodovi)"
   ]
  },
  {
   "cell_type": "code",
   "execution_count": null,
   "metadata": {},
   "outputs": [],
   "source": [
    "#broj takmičara koji ima dovoljan broj bodova\n",
    "len([x for x in bodovi if x>=60]) "
   ]
  },
  {
   "cell_type": "code",
   "execution_count": null,
   "metadata": {},
   "outputs": [],
   "source": [
    "#bodovi sortirani opadajuće\n",
    "bodovi.sort(reverse=True)"
   ]
  },
  {
   "cell_type": "code",
   "execution_count": null,
   "metadata": {},
   "outputs": [],
   "source": [
    "bodovi"
   ]
  },
  {
   "cell_type": "code",
   "execution_count": null,
   "metadata": {},
   "outputs": [],
   "source": [
    "#bodovi uvećani za 7 nagradnih bodova\n",
    "bodovi2 = [x+7 for x in bodovi]"
   ]
  },
  {
   "cell_type": "code",
   "execution_count": null,
   "metadata": {},
   "outputs": [],
   "source": [
    "bodovi2"
   ]
  },
  {
   "cell_type": "code",
   "execution_count": null,
   "metadata": {},
   "outputs": [],
   "source": [
    "#novi broj plasiranih na sledeći nivo takmičenja\n",
    "len([x for x in bodovi2 if x>=60])"
   ]
  },
  {
   "cell_type": "code",
   "execution_count": null,
   "metadata": {},
   "outputs": [],
   "source": [
    "#prvoplasirani\n",
    "bodovi2[0]"
   ]
  },
  {
   "cell_type": "code",
   "execution_count": null,
   "metadata": {},
   "outputs": [],
   "source": [
    "#drugoplasirani\n",
    "bodovi2[1]"
   ]
  },
  {
   "cell_type": "code",
   "execution_count": null,
   "metadata": {},
   "outputs": [],
   "source": [
    "#trećeplasirani\n",
    "bodovi2[2]"
   ]
  },
  {
   "cell_type": "code",
   "execution_count": null,
   "metadata": {},
   "outputs": [],
   "source": []
  }
 ],
 "metadata": {
  "kernelspec": {
   "display_name": "Python 3",
   "language": "python",
   "name": "python3"
  },
  "language_info": {
   "codemirror_mode": {
    "name": "ipython",
    "version": 3
   },
   "file_extension": ".py",
   "mimetype": "text/x-python",
   "name": "python",
   "nbconvert_exporter": "python",
   "pygments_lexer": "ipython3",
   "version": "3.9.5"
  }
 },
 "nbformat": 4,
 "nbformat_minor": 2
}
