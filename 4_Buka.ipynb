{
 "cells": [
  {
   "cell_type": "code",
   "execution_count": null,
   "metadata": {},
   "outputs": [],
   "source": [
    "#Rezultati merenja nivoa buke\n",
    "buka = [52.2,55.7,57.5,47.3,60.2,49.5,51.5,48.9,53.1,51.2,50.4,48.6]"
   ]
  },
  {
   "cell_type": "code",
   "execution_count": null,
   "metadata": {},
   "outputs": [],
   "source": [
    "print(\"Izmerene vrednosti se nalaze u intervalu od\",min(buka),\"do\",max(buka))"
   ]
  },
  {
   "cell_type": "code",
   "execution_count": null,
   "metadata": {},
   "outputs": [],
   "source": [
    "prosek = sum(buka)/len(buka)\n",
    "print(\"Prosečna vrednost nivoa buke bila je:\", prosek)"
   ]
  },
  {
   "cell_type": "code",
   "execution_count": null,
   "metadata": {},
   "outputs": [],
   "source": [
    "if prosek>50:\n",
    "    print(\"Prosečna vrednost prelazi granicu od 50 dB!!!\")\n",
    "else:\n",
    "    print(\"Prosečna vrednost je u dozvoljenoj granici.\")"
   ]
  },
  {
   "cell_type": "code",
   "execution_count": null,
   "metadata": {},
   "outputs": [],
   "source": []
  }
 ],
 "metadata": {
  "kernelspec": {
   "display_name": "Python 3",
   "language": "python",
   "name": "python3"
  },
  "language_info": {
   "codemirror_mode": {
    "name": "ipython",
    "version": 3
   },
   "file_extension": ".py",
   "mimetype": "text/x-python",
   "name": "python",
   "nbconvert_exporter": "python",
   "pygments_lexer": "ipython3",
   "version": "3.9.5"
  }
 },
 "nbformat": 4,
 "nbformat_minor": 2
}
