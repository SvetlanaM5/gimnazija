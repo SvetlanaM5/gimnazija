{
 "cells": [
  {
   "cell_type": "markdown",
   "metadata": {},
   "source": [
    "# Анализа продаје производа\n",
    "У једној продавници планира се акција у којој сваки купац за купљена два производа трећи, најјефтинији, добија за један динар. У табели су приказани подаци о претходним куповинама. Помози власнику продавнице да израчуна укупну вредност трећег производа, највишу и најнижу цену трећег производа, просечну цену и медијану цена трећег производа. Осим тога, потребно је да израчуна колика је укупна зарада од продаје прва два производа како би одлучио да ли да трећи производ продаје за један динар."
   ]
  },
  {
   "cell_type": "code",
   "execution_count": null,
   "metadata": {},
   "outputs": [],
   "source": [
    "prodavnica =[[409.58,355.99,155.99],\n",
    "             [249.99,229.99,93.99],\n",
    "             [471.41,325.99,141.95],\n",
    "             [582.93,184.68,89.99],\n",
    "             [361.44,263.69,44.65]]"
   ]
  },
  {
   "cell_type": "code",
   "execution_count": null,
   "metadata": {},
   "outputs": [],
   "source": [
    "import pandas as pd\n",
    "prodajaT = pd.DataFrame(prodavnica)\n",
    "prodajaT.columns=[\"proizvod 1\",\"proizvod 2\", \"proizvod 3\"]"
   ]
  },
  {
   "cell_type": "code",
   "execution_count": null,
   "metadata": {},
   "outputs": [],
   "source": [
    "prodajaT"
   ]
  },
  {
   "cell_type": "code",
   "execution_count": null,
   "metadata": {},
   "outputs": [],
   "source": [
    "print(\"Ukupna vrednost trećeg proizvoda je:\", prodajaT['proizvod 3'].sum())\n",
    "print(\"Najniža cena trećeg proizvoda je:\", prodajaT['proizvod 3'].min())\n",
    "print(\"Najviša cena trećeg proizvoda je:\", prodajaT['proizvod 3'].max())\n",
    "print(\"Prosečna cena trećeg proizvoda je:\", prodajaT['proizvod 3'].mean())\n",
    "print(\"Medijana cena trećeg proizvoda je:\", prodajaT['proizvod 3'].median())"
   ]
  },
  {
   "cell_type": "code",
   "execution_count": null,
   "metadata": {},
   "outputs": [],
   "source": [
    "ukupno = prodajaT['proizvod 1'].sum() + prodajaT['proizvod 2'].sum()\n",
    "print(\"Ukupna zarada od prodaje prva dva proizvoda je:\", ukupno)"
   ]
  }
 ],
 "metadata": {
  "kernelspec": {
   "display_name": "Python 3",
   "language": "python",
   "name": "python3"
  },
  "language_info": {
   "codemirror_mode": {
    "name": "ipython",
    "version": 3
   },
   "file_extension": ".py",
   "mimetype": "text/x-python",
   "name": "python",
   "nbconvert_exporter": "python",
   "pygments_lexer": "ipython3",
   "version": "3.9.5"
  }
 },
 "nbformat": 4,
 "nbformat_minor": 2
}
