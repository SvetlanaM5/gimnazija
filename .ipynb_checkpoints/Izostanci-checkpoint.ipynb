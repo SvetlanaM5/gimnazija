{
 "cells": [
  {
   "cell_type": "markdown",
   "metadata": {},
   "source": [
    "# Задатак\n",
    "\n",
    "1. У окружењу Џупитер креирај радну свеску Изостанци.\n",
    "2. Креирај низ који ће садржати број изостанака свих ученика у одељењу.\n",
    "\n",
    "izostanci=[28,26,66,7,0,17,43,9,45,14,10,77,105,30,43,37,66,11,20,15,30,46,27,16,13]\n",
    "\n",
    "3. У наставку радне свеске напиши наредбе које ће:\n",
    "- израчунати укупан број изостанака у одељењу,\n",
    "- издвојити изостанке ученика веће од 50,\n",
    "- исписати колико ученика има више од 50 изостанака,\n",
    "- издвојити изостанке ученика мање од 10,\n",
    "- исписати колико ученика има мање од 10 изостанака и\n",
    "- написати колико има ученика без иједног изостанка.\n",
    "4. Сачувати измене урадној свесци.\n",
    "\n",
    "\n"
   ]
  },
  {
   "cell_type": "code",
   "execution_count": null,
   "metadata": {},
   "outputs": [],
   "source": [
    "izostanci=[28,26,66,7,0,17,43,9,45,14,10,77,\n",
    "           105,30,43,37,66,11,20,15,30,46,27,16,13]"
   ]
  },
  {
   "cell_type": "code",
   "execution_count": null,
   "metadata": {},
   "outputs": [],
   "source": [
    "ukupno = sum(izostanci)"
   ]
  },
  {
   "cell_type": "code",
   "execution_count": null,
   "metadata": {},
   "outputs": [],
   "source": [
    "print(\"Ukupan broj izostanaka u odeljenju je:\", ukupno)"
   ]
  },
  {
   "cell_type": "code",
   "execution_count": null,
   "metadata": {},
   "outputs": [],
   "source": [
    "više_od_50 = [x for x in izostanci if x>50]\n",
    "više_od_50"
   ]
  },
  {
   "cell_type": "code",
   "execution_count": null,
   "metadata": {},
   "outputs": [],
   "source": [
    "len(više_od_50)"
   ]
  },
  {
   "cell_type": "code",
   "execution_count": null,
   "metadata": {},
   "outputs": [],
   "source": [
    "print(\"Broj učenika koji imaju više od 50 izostanaka je\", len(više_od_50))"
   ]
  },
  {
   "cell_type": "code",
   "execution_count": null,
   "metadata": {},
   "outputs": [],
   "source": [
    "manje_od_10 = [x for x in izostanci if x<10]\n",
    "manje_od_10"
   ]
  },
  {
   "cell_type": "code",
   "execution_count": null,
   "metadata": {},
   "outputs": [],
   "source": [
    "len(manje_od_10)"
   ]
  },
  {
   "cell_type": "code",
   "execution_count": null,
   "metadata": {},
   "outputs": [],
   "source": [
    "print(\"Broj učenika koji imaju manje od 50 izostanaka je\", len(manje_od_10))"
   ]
  },
  {
   "cell_type": "code",
   "execution_count": null,
   "metadata": {},
   "outputs": [],
   "source": [
    "#Broj učenika bez izostanaka\n",
    "len([x for x in izostanci if x==0])"
   ]
  },
  {
   "cell_type": "code",
   "execution_count": null,
   "metadata": {},
   "outputs": [],
   "source": [
    "izostanci=[28,26,66,7,0,17,43,9,45,14,10,77,\n",
    "           105,30,43,37,66,11,20,15,30,46,27,16,13]"
   ]
  },
  {
   "cell_type": "code",
   "execution_count": null,
   "metadata": {},
   "outputs": [],
   "source": [
    "def prosek(imeNiza):\n",
    "    return sum(imeNiza)/len(imeNiza)"
   ]
  },
  {
   "cell_type": "code",
   "execution_count": null,
   "metadata": {},
   "outputs": [],
   "source": [
    "prosek(izostanci)"
   ]
  },
  {
   "cell_type": "code",
   "execution_count": null,
   "metadata": {},
   "outputs": [],
   "source": [
    "from statistics import median"
   ]
  },
  {
   "cell_type": "code",
   "execution_count": null,
   "metadata": {},
   "outputs": [],
   "source": [
    "median(izostanci)"
   ]
  },
  {
   "cell_type": "code",
   "execution_count": null,
   "metadata": {},
   "outputs": [],
   "source": [
    "def medijana(imeNiza):\n",
    "    imeNiza.sort()\n",
    "    n=len(imeNiza)\n",
    "    if n%2==1:\n",
    "        return imeNiza[n//2]\n",
    "    else:\n",
    "        return (imeNiza[n//2-1]+imeNiza[n//2])/2"
   ]
  },
  {
   "cell_type": "code",
   "execution_count": null,
   "metadata": {},
   "outputs": [],
   "source": [
    "medijana(izostanci)"
   ]
  },
  {
   "cell_type": "code",
   "execution_count": null,
   "metadata": {},
   "outputs": [],
   "source": []
  }
 ],
 "metadata": {
  "kernelspec": {
   "display_name": "Python 3",
   "language": "python",
   "name": "python3"
  },
  "language_info": {
   "codemirror_mode": {
    "name": "ipython",
    "version": 3
   },
   "file_extension": ".py",
   "mimetype": "text/x-python",
   "name": "python",
   "nbconvert_exporter": "python",
   "pygments_lexer": "ipython3",
   "version": "3.9.5"
  }
 },
 "nbformat": 4,
 "nbformat_minor": 2
}
