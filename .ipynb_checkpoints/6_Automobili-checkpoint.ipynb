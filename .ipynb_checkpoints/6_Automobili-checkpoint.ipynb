{
 "cells": [
  {
   "cell_type": "markdown",
   "metadata": {},
   "source": [
    "# Продаја аутомобила"
   ]
  },
  {
   "cell_type": "markdown",
   "metadata": {},
   "source": [
    "<img src=\"automobili.jpg\">"
   ]
  },
  {
   "cell_type": "code",
   "execution_count": null,
   "metadata": {},
   "outputs": [],
   "source": [
    "proizvođači = ['BMW', 'AUDI', 'FIAT', 'PEUGEOT', 'CITROEN', 'FERRARI', 'MERCEDES']\n",
    "prodavnica1 = [50, 36, 160, 116, 77, 98, 61]\n",
    "prodavnica2 = [65, 48, 230, 197, 59, 102, 74]"
   ]
  },
  {
   "cell_type": "code",
   "execution_count": null,
   "metadata": {},
   "outputs": [],
   "source": [
    "import matplotlib.pyplot as plt"
   ]
  },
  {
   "cell_type": "code",
   "execution_count": null,
   "metadata": {
    "scrolled": true
   },
   "outputs": [],
   "source": [
    "plt.figure(figsize=(7,3))\n",
    "plt.bar(proizvođači, prodavnica1)\n",
    "plt.title(\"Продаја аутомобила у првој продавници\")\n",
    "plt.show()\n",
    "plt.close()"
   ]
  },
  {
   "cell_type": "code",
   "execution_count": null,
   "metadata": {},
   "outputs": [],
   "source": [
    "automobili = [['BMW', 50,65],\n",
    "        ['AUDI', 36, 48],\n",
    "        ['FIAT', 160, 230],\n",
    "        ['PEUGEOT', 116, 197],\n",
    "        ['CITROEN', 77, 59],\n",
    "        ['FERRARI', 98, 102],\n",
    "        ['MERCEDES', 61, 74]]"
   ]
  },
  {
   "cell_type": "code",
   "execution_count": null,
   "metadata": {},
   "outputs": [],
   "source": [
    "automobili[2]"
   ]
  },
  {
   "cell_type": "code",
   "execution_count": null,
   "metadata": {},
   "outputs": [],
   "source": [
    "ukupno1 = 0\n",
    "for x in automobili:\n",
    "    ukupno1 += x[1]\n",
    "float(ukupno1)"
   ]
  },
  {
   "cell_type": "code",
   "execution_count": null,
   "metadata": {},
   "outputs": [],
   "source": [
    "automobili = [['BMW', 50,65],\n",
    "        ['AUDI', 36, 48],\n",
    "        ['FIAT', 160, 230],\n",
    "        ['PEUGEOT', 116, 197],\n",
    "        ['CITROEN', 77, 59],\n",
    "        ['FERRARI', 98, 102],\n",
    "        ['MERCEDES', 61, 74]]"
   ]
  },
  {
   "cell_type": "markdown",
   "metadata": {},
   "source": [
    "У програмским окружењима за анализу података постоје специјализоване структуре за представљање табеларно записаних података. Ове структуре омогућавају различите анализе података."
   ]
  },
  {
   "cell_type": "markdown",
   "metadata": {},
   "source": [
    "За обраду и анализу података у програмском језику Пајтон користи се библиотека **pandas**. Да би могла да се користи, треба је увести наредбом **import pandas as pd**."
   ]
  },
  {
   "cell_type": "code",
   "execution_count": null,
   "metadata": {},
   "outputs": [],
   "source": [
    "import pandas as pd"
   ]
  },
  {
   "cell_type": "code",
   "execution_count": null,
   "metadata": {},
   "outputs": [],
   "source": [
    "autoT = pd.DataFrame(automobili)"
   ]
  },
  {
   "cell_type": "code",
   "execution_count": null,
   "metadata": {},
   "outputs": [],
   "source": [
    "autoT"
   ]
  },
  {
   "cell_type": "code",
   "execution_count": null,
   "metadata": {},
   "outputs": [],
   "source": [
    "autoT.columns=[\"proizvođači\", \"prodavnica1\", \"prodavnica2\"]"
   ]
  },
  {
   "cell_type": "code",
   "execution_count": null,
   "metadata": {},
   "outputs": [],
   "source": [
    "autoT"
   ]
  },
  {
   "cell_type": "code",
   "execution_count": null,
   "metadata": {},
   "outputs": [],
   "source": []
  }
 ],
 "metadata": {
  "kernelspec": {
   "display_name": "Python 3",
   "language": "python",
   "name": "python3"
  },
  "language_info": {
   "codemirror_mode": {
    "name": "ipython",
    "version": 3
   },
   "file_extension": ".py",
   "mimetype": "text/x-python",
   "name": "python",
   "nbconvert_exporter": "python",
   "pygments_lexer": "ipython3",
   "version": "3.9.5"
  }
 },
 "nbformat": 4,
 "nbformat_minor": 2
}
