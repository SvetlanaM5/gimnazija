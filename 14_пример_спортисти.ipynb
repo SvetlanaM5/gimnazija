{
 "cells": [
  {
   "cell_type": "code",
   "execution_count": null,
   "metadata": {},
   "outputs": [],
   "source": [
    "sportisti = [['Ksenija','plivanje'],['Veljko','fudbal'],['Biljana','odbojka'],\n",
    "             ['Ana','košarka'],['Bojana','fudbal'],['Milan','odbojka'],\n",
    "             ['Jana','plivanje'],['Danica','fudbal'],['Miljan','fudbal'],\n",
    "             ['Dejan','odbojka'],['Vesna','rukomet'],['Dušan','fudbal'],\n",
    "             ['Sara','košarka'],['Luka','fudbal'],['Slobodan','odbojka'],\n",
    "             ['Đorđe','rukomet'],['Damjan','fudbal'],['Nikola','odbojka'],\n",
    "             ['Danilo','rukomet'],['Nenad','plivanje'],['Sofija','rukomet']]"
   ]
  },
  {
   "cell_type": "code",
   "execution_count": null,
   "metadata": {},
   "outputs": [],
   "source": [
    "import pandas as pd\n",
    "sportT = pd.DataFrame(sportisti)\n",
    "sportT.columns=[\"ime\",\"sport\"]\n",
    "tabela1=sportT.set_index(\"ime\")"
   ]
  },
  {
   "cell_type": "code",
   "execution_count": null,
   "metadata": {},
   "outputs": [],
   "source": [
    "tabela1"
   ]
  },
  {
   "cell_type": "code",
   "execution_count": null,
   "metadata": {},
   "outputs": [],
   "source": [
    "rezultat = tabela1[\"sport\"].value_counts()"
   ]
  },
  {
   "cell_type": "code",
   "execution_count": null,
   "metadata": {},
   "outputs": [],
   "source": [
    "print(\"Sportovi koji su zastupljeni u školi:\")\n",
    "print(rezultat.index)\n",
    "print(\"Broj učenika koji treniraju ove sportove:\")\n",
    "print( rezultat.values)"
   ]
  },
  {
   "cell_type": "markdown",
   "metadata": {},
   "source": [
    "Od prikupljenih podataka mogu se kreirati grafikoni..."
   ]
  },
  {
   "cell_type": "code",
   "execution_count": null,
   "metadata": {},
   "outputs": [],
   "source": [
    "print(\"Sportovi koji su zastupljeni u školi:\")\n",
    "print(rezultat.index)\n",
    "print(\"Broj učenika koji treniraju ove sportove:\")\n",
    "print( rezultat.values)"
   ]
  },
  {
   "cell_type": "code",
   "execution_count": null,
   "metadata": {},
   "outputs": [],
   "source": [
    "import matplotlib.pyplot as plt\n",
    "plt.bar(rezultat.index, rezultat.values)\n",
    "plt.title(\"Koji sport treniraš?\")\n",
    "plt.show()\n",
    "plt.close()"
   ]
  },
  {
   "cell_type": "code",
   "execution_count": null,
   "metadata": {},
   "outputs": [],
   "source": [
    "plt.pie(rezultat.values, labels=rezultat.index, autopct='%1.1f%%')\n",
    "plt.title(\"Zastupljenost sportova u vannastavnim aktivnostima\")\n",
    "plt.show()\n",
    "plt.close()"
   ]
  },
  {
   "cell_type": "code",
   "execution_count": null,
   "metadata": {},
   "outputs": [],
   "source": []
  }
 ],
 "metadata": {
  "kernelspec": {
   "display_name": "Python 3",
   "language": "python",
   "name": "python3"
  },
  "language_info": {
   "codemirror_mode": {
    "name": "ipython",
    "version": 3
   },
   "file_extension": ".py",
   "mimetype": "text/x-python",
   "name": "python",
   "nbconvert_exporter": "python",
   "pygments_lexer": "ipython3",
   "version": "3.9.5"
  }
 },
 "nbformat": 4,
 "nbformat_minor": 2
}
