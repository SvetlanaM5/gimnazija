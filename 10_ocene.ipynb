{
 "cells": [
  {
   "cell_type": "markdown",
   "metadata": {},
   "source": [
    "# Оцене на крају првог полугодишта\n",
    "У програму за рад са табелама Microsoft Excel креирана је табела која садржи имена и презимена ученика једног одељења и закључне оцене на крају првог полугодишта из свих предмета.\n",
    "Затим су у окружењу Џупитер учитани подаци из ове табеле у структуру DataFrame и израчуната минимална оцена и просечна оцена за сваки предмет."
   ]
  },
  {
   "cell_type": "code",
   "execution_count": null,
   "metadata": {},
   "outputs": [],
   "source": [
    "import pandas as pd\n",
    "excel_dokument = 'oceneVIII5.xlsx'\n",
    "ocene = pd.read_excel(excel_dokument)"
   ]
  },
  {
   "cell_type": "code",
   "execution_count": null,
   "metadata": {
    "scrolled": true
   },
   "outputs": [],
   "source": [
    "ocene"
   ]
  },
  {
   "cell_type": "markdown",
   "metadata": {},
   "source": [
    "Да бисмо могли да анализирамо податке који припадају једном реду табеле, мора да постоји једна колона чија је вредност јединствене за сваки ред табеле. На пример, колона „Ученик” садржи у сваком реду јединствену вредност, док се у свим осталим колонама са оценама вредности понављају више пута."
   ]
  },
  {
   "cell_type": "markdown",
   "metadata": {},
   "source": [
    "Колона чије су вредности јединствене за сваки ред у табели назива се **кључ** или **индексна колона**. Ова колона се користи за приступање појединачним редовима табеле. Да би систем знао која је колона у структури DataFrame кључна, потребно је означити колону као индекс табеле. Када имамо индексирану табелу, можемо да приступамо редовима, али и појединачним ћелијама табеле."
   ]
  },
  {
   "cell_type": "code",
   "execution_count": null,
   "metadata": {},
   "outputs": [],
   "source": [
    "tabela1=ocene.set_index(\"Ученик\")"
   ]
  },
  {
   "cell_type": "code",
   "execution_count": null,
   "metadata": {
    "scrolled": true
   },
   "outputs": [],
   "source": [
    "tabela1"
   ]
  },
  {
   "cell_type": "code",
   "execution_count": null,
   "metadata": {},
   "outputs": [],
   "source": [
    "tabela2=tabela1[tabela1.Српски >= 4]"
   ]
  },
  {
   "cell_type": "code",
   "execution_count": null,
   "metadata": {},
   "outputs": [],
   "source": [
    "tabela2"
   ]
  },
  {
   "cell_type": "code",
   "execution_count": null,
   "metadata": {
    "scrolled": false
   },
   "outputs": [],
   "source": [
    "tabela1.loc['Васић Драгана']"
   ]
  },
  {
   "cell_type": "code",
   "execution_count": null,
   "metadata": {},
   "outputs": [],
   "source": [
    "tabela1.loc[\"Јокић Горан\":\"Станков Дуња\"]"
   ]
  },
  {
   "cell_type": "code",
   "execution_count": null,
   "metadata": {},
   "outputs": [],
   "source": [
    "tabela1.loc[\"Петровић Ивана\", \"Математика\"]"
   ]
  },
  {
   "cell_type": "code",
   "execution_count": null,
   "metadata": {
    "scrolled": false
   },
   "outputs": [],
   "source": [
    "tabela1.index"
   ]
  },
  {
   "cell_type": "code",
   "execution_count": null,
   "metadata": {},
   "outputs": [],
   "source": [
    "print(\"Просечна оцена Горана Јокића је:\",round(tabela1.loc['Јокић Горан'].mean(), 2))"
   ]
  },
  {
   "cell_type": "code",
   "execution_count": null,
   "metadata": {},
   "outputs": [],
   "source": [
    "print(\"Просечнe оценe\")\n",
    "for ucenik in tabela1.index:\n",
    "    print(ucenik, \":\", round(tabela1.loc[ucenik].mean(), 2))"
   ]
  },
  {
   "cell_type": "code",
   "execution_count": null,
   "metadata": {},
   "outputs": [],
   "source": [
    "tabela1.columns"
   ]
  },
  {
   "cell_type": "code",
   "execution_count": null,
   "metadata": {},
   "outputs": [],
   "source": [
    "for predmet in tabela1.columns:\n",
    "    print(predmet)\n",
    "    print(\"Најмања оцена:\", ocene[predmet].min())\n",
    "    print(\"Просечна оцена:\", round(ocene[predmet].mean(),2))"
   ]
  },
  {
   "cell_type": "code",
   "execution_count": null,
   "metadata": {},
   "outputs": [],
   "source": [
    "for predmet in tabela1.columns:\n",
    "    print(predmet, \"->\", round(tabela1[predmet].mean(), 2))"
   ]
  },
  {
   "cell_type": "code",
   "execution_count": null,
   "metadata": {},
   "outputs": [],
   "source": [
    "#Srpski jezik\n",
    "ocene['Српски'].min()"
   ]
  },
  {
   "cell_type": "code",
   "execution_count": null,
   "metadata": {},
   "outputs": [],
   "source": [
    "print(\"Најмања оцена из српског језика је:\", ocene['Српски'].min())\n",
    "print(\"Просечна оцена из српског језика је:\", ocene['Српски'].mean())"
   ]
  },
  {
   "cell_type": "code",
   "execution_count": null,
   "metadata": {
    "scrolled": true
   },
   "outputs": [],
   "source": [
    "ocene.columns"
   ]
  },
  {
   "cell_type": "code",
   "execution_count": null,
   "metadata": {},
   "outputs": [],
   "source": [
    "for i in range(1,len(ocene.columns)):\n",
    "    x = ocene.columns[i]\n",
    "    print(x)\n",
    "    print(\"Најмања оцена:\", ocene[x].min())\n",
    "    print(\"Просечна оцена:\", ocene[x].mean())"
   ]
  },
  {
   "cell_type": "code",
   "execution_count": null,
   "metadata": {},
   "outputs": [],
   "source": []
  }
 ],
 "metadata": {
  "kernelspec": {
   "display_name": "Python 3",
   "language": "python",
   "name": "python3"
  },
  "language_info": {
   "codemirror_mode": {
    "name": "ipython",
    "version": 3
   },
   "file_extension": ".py",
   "mimetype": "text/x-python",
   "name": "python",
   "nbconvert_exporter": "python",
   "pygments_lexer": "ipython3",
   "version": "3.9.5"
  }
 },
 "nbformat": 4,
 "nbformat_minor": 2
}
